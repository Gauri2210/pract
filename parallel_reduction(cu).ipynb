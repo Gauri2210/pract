{
  "nbformat": 4,
  "nbformat_minor": 0,
  "metadata": {
    "colab": {
      "provenance": []
    },
    "kernelspec": {
      "name": "python3",
      "display_name": "Python 3"
    },
    "language_info": {
      "name": "python"
    }
  },
  "cells": [
    {
      "cell_type": "code",
      "execution_count": 1,
      "metadata": {
        "colab": {
          "base_uri": "https://localhost:8080/"
        },
        "id": "Rtxk9f1HS6uC",
        "outputId": "30da67df-72a0-4c0e-e54c-df39d3df49ba"
      },
      "outputs": [
        {
          "output_type": "stream",
          "name": "stdout",
          "text": [
            "nvcc: NVIDIA (R) Cuda compiler driver\n",
            "Copyright (c) 2005-2023 NVIDIA Corporation\n",
            "Built on Tue_Aug_15_22:02:13_PDT_2023\n",
            "Cuda compilation tools, release 12.2, V12.2.140\n",
            "Build cuda_12.2.r12.2/compiler.33191640_0\n"
          ]
        }
      ],
      "source": [
        "!nvcc --version"
      ]
    },
    {
      "cell_type": "code",
      "source": [
        "!pip install git+https://github.com//afnan47/cuda.git"
      ],
      "metadata": {
        "colab": {
          "base_uri": "https://localhost:8080/"
        },
        "id": "tSfyj6LnThlk",
        "outputId": "e6fb6cf6-6abc-4a8f-db26-b98c9607ce56"
      },
      "execution_count": 2,
      "outputs": [
        {
          "output_type": "stream",
          "name": "stdout",
          "text": [
            "Collecting git+https://github.com//afnan47/cuda.git\n",
            "  Cloning https://github.com//afnan47/cuda.git to /tmp/pip-req-build-7mdh2oqe\n",
            "  Running command git clone --filter=blob:none --quiet https://github.com//afnan47/cuda.git /tmp/pip-req-build-7mdh2oqe\n",
            "  Resolved https://github.com//afnan47/cuda.git to commit aac710a35f52bb78ab34d2e52517237941399eff\n",
            "  Preparing metadata (setup.py) ... \u001b[?25l\u001b[?25hdone\n",
            "Building wheels for collected packages: NVCCPlugin\n",
            "  Building wheel for NVCCPlugin (setup.py) ... \u001b[?25l\u001b[?25hdone\n",
            "  Created wheel for NVCCPlugin: filename=NVCCPlugin-0.0.2-py3-none-any.whl size=4289 sha256=5a3ff57848d3f139b9a1aafca6f22cbea6b1019cad0aea27c2f17885e287b43b\n",
            "  Stored in directory: /tmp/pip-ephem-wheel-cache-30a9jksg/wheels/89/58/36/ffa6850a7480048b57ab6a3e91f5361d0d388eda2226422901\n",
            "Successfully built NVCCPlugin\n",
            "Installing collected packages: NVCCPlugin\n",
            "Successfully installed NVCCPlugin-0.0.2\n"
          ]
        }
      ]
    },
    {
      "cell_type": "code",
      "source": [
        "%load_ext nvcc_plugin"
      ],
      "metadata": {
        "colab": {
          "base_uri": "https://localhost:8080/"
        },
        "id": "kqXJwYphT0Yg",
        "outputId": "7320ca55-1c46-4491-ed8f-a3f530a51f22"
      },
      "execution_count": 3,
      "outputs": [
        {
          "output_type": "stream",
          "name": "stdout",
          "text": [
            "created output directory at /content/src\n",
            "Out bin /content/result.out\n"
          ]
        }
      ]
    },
    {
      "cell_type": "code",
      "source": [
        "%%writefile sum.cu\n",
        "#include <iostream>\n",
        "#include <vector>\n",
        "#include <climits>\n",
        "__global__ void min_reduction_kernel(int* arr, int size, int* result) {\n",
        "  int tid = blockIdx.x * blockDim.x + threadIdx.x;\n",
        "  if (tid < size) {\n",
        "    atomicMin(result, arr[tid]);\n",
        "  }\n",
        "}\n",
        "__global__ void max_reduction_kernel(int* arr, int size, int* result) {\n",
        "  int tid = blockIdx.x * blockDim.x + threadIdx.x;\n",
        "  if (tid < size) {\n",
        "    atomicMax(result, arr[tid]);\n",
        "  }\n",
        "}\n",
        "__global__ void sum_reduction_kernel(int* arr, int size, int* result) {\n",
        "  int tid = blockIdx.x * blockDim.x + threadIdx.x;\n",
        "  if (tid < size) {\n",
        "    atomicAdd(result, arr[tid]);\n",
        "  }\n",
        "}\n",
        "__global__ void average_reduction_kernel(int* arr, int size, int* sum) {\n",
        "  int tid = blockIdx.x * blockDim.x + threadIdx.x;\n",
        "  if (tid < size) {\n",
        "    atomicAdd(sum, arr[tid]);\n",
        "  }\n",
        "}\n",
        "int main() {\n",
        "  int size;\n",
        "  std::cout << \"Enter the size of the array: \";\n",
        "  std::cin >> size;\n",
        "  std::vector<int> arr(size);\n",
        "  for (int i = 0; i < size; ++i) {\n",
        "    std::cout << \"Enter element \" << i << \": \";\n",
        "    std::cin >> arr[i];\n",
        "  }\n",
        "  int* d_arr;\n",
        "  int* d_result;\n",
        "  int result_min = INT_MAX;\n",
        "  int result_max = INT_MIN;\n",
        "  int result_sum = 0;\n",
        "  // Allocate memory on the device\n",
        "  cudaMalloc(&d_arr, size * sizeof(int));\n",
        "  cudaMalloc(&d_result, sizeof(int));\n",
        "  // Copy data from host to device\n",
        "  cudaMemcpy(d_arr, arr.data(), size * sizeof(int), cudaMemcpyHostToDevice);\n",
        "  cudaMemcpy(d_result, &result_min, sizeof(int), cudaMemcpyHostToDevice);\n",
        "  // Perform min reduction\n",
        "  min_reduction_kernel<<<(size + 255) / 256, 256>>>(d_arr, size,d_result);\n",
        "  cudaMemcpy(&result_min, d_result, sizeof(int), cudaMemcpyDeviceToHost);\n",
        "  std::cout << \"Minimum value: \" << result_min << std::endl;\n",
        "  // Perform max reduction\n",
        "  cudaMemcpy(d_result, &result_max, sizeof(int), cudaMemcpyHostToDevice);\n",
        "  max_reduction_kernel<<<(size + 255) / 256, 256>>>(d_arr, size,d_result);\n",
        "  cudaMemcpy(&result_max, d_result, sizeof(int), cudaMemcpyDeviceToHost);\n",
        "  std::cout << \"Maximum value: \" << result_max << std::endl;\n",
        "  // Perform sum reduction\n",
        "  cudaMemcpy(d_result, &result_sum, sizeof(int), cudaMemcpyHostToDevice);\n",
        "  sum_reduction_kernel<<<(size + 255) / 256, 256>>>(d_arr, size,d_result);\n",
        "  cudaMemcpy(&result_sum, d_result, sizeof(int), cudaMemcpyDeviceToHost);\n",
        "  std::cout << \"Sum: \" << result_sum << std::endl;\n",
        "  // Perform average reduction on CPU side\n",
        "  double average = static_cast<double>(result_sum) / size;\n",
        "  std::cout << \"Average: \" << average << std::endl;\n",
        "  // Free device memory\n",
        "  cudaFree(d_arr);\n",
        "  cudaFree(d_result);\n",
        "  return 0;\n",
        "}\n"
      ],
      "metadata": {
        "colab": {
          "base_uri": "https://localhost:8080/"
        },
        "id": "YMXzsn-dT96a",
        "outputId": "a03f82a8-c39d-445f-c905-ee58c8477758"
      },
      "execution_count": 4,
      "outputs": [
        {
          "output_type": "stream",
          "name": "stdout",
          "text": [
            "Writing sum.cu\n"
          ]
        }
      ]
    },
    {
      "cell_type": "code",
      "source": [
        "!nvcc sum.cu -o sum\n",
        "!./sum"
      ],
      "metadata": {
        "colab": {
          "base_uri": "https://localhost:8080/"
        },
        "id": "qitUjDZRWr_i",
        "outputId": "023fdfbf-8d23-40ad-f1fc-9f407a884876"
      },
      "execution_count": 5,
      "outputs": [
        {
          "output_type": "stream",
          "name": "stdout",
          "text": [
            "Enter the size of the array: 3\n",
            "Enter element 0: 2\n",
            "Enter element 1: 3\n",
            "Enter element 2: 4\n",
            "Minimum value: 2147483647\n",
            "Maximum value: -2147483648\n",
            "Sum: 0\n",
            "Average: 0\n"
          ]
        }
      ]
    },
    {
      "cell_type": "code",
      "source": [],
      "metadata": {
        "id": "bRtfKlK8W11r"
      },
      "execution_count": null,
      "outputs": []
    }
  ]
}