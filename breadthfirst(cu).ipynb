{
  "nbformat": 4,
  "nbformat_minor": 0,
  "metadata": {
    "colab": {
      "provenance": [],
      "gpuType": "T4"
    },
    "kernelspec": {
      "name": "python3",
      "display_name": "Python 3"
    },
    "language_info": {
      "name": "python"
    },
    "accelerator": "GPU"
  },
  "cells": [
    {
      "cell_type": "code",
      "source": [
        "!nvcc --version"
      ],
      "metadata": {
        "colab": {
          "base_uri": "https://localhost:8080/"
        },
        "id": "MSPYKstMGKQe",
        "outputId": "1bc96aee-7caf-4235-a812-01d1c22a333a"
      },
      "execution_count": 9,
      "outputs": [
        {
          "output_type": "stream",
          "name": "stdout",
          "text": [
            "nvcc: NVIDIA (R) Cuda compiler driver\n",
            "Copyright (c) 2005-2023 NVIDIA Corporation\n",
            "Built on Tue_Aug_15_22:02:13_PDT_2023\n",
            "Cuda compilation tools, release 12.2, V12.2.140\n",
            "Build cuda_12.2.r12.2/compiler.33191640_0\n"
          ]
        }
      ]
    },
    {
      "cell_type": "code",
      "execution_count": 10,
      "metadata": {
        "colab": {
          "base_uri": "https://localhost:8080/"
        },
        "id": "TNg344rC9SpW",
        "outputId": "926b890e-661f-44c9-a022-255b7ad86fc1"
      },
      "outputs": [
        {
          "output_type": "stream",
          "name": "stdout",
          "text": [
            "Collecting git+https://github.com/afnan47/cuda.git\n",
            "  Cloning https://github.com/afnan47/cuda.git to /tmp/pip-req-build-anc5nbx5\n",
            "  Running command git clone --filter=blob:none --quiet https://github.com/afnan47/cuda.git /tmp/pip-req-build-anc5nbx5\n",
            "  Resolved https://github.com/afnan47/cuda.git to commit aac710a35f52bb78ab34d2e52517237941399eff\n",
            "  Preparing metadata (setup.py) ... \u001b[?25l\u001b[?25hdone\n"
          ]
        }
      ],
      "source": [
        "!pip install git+https://github.com/afnan47/cuda.git"
      ]
    },
    {
      "cell_type": "code",
      "source": [
        "%load_ext nvcc_plugin"
      ],
      "metadata": {
        "colab": {
          "base_uri": "https://localhost:8080/"
        },
        "id": "TJLfMbl39yyw",
        "outputId": "deef7792-1005-42ae-b32f-1eb5cc405055"
      },
      "execution_count": 11,
      "outputs": [
        {
          "output_type": "stream",
          "name": "stdout",
          "text": [
            "The nvcc_plugin extension is already loaded. To reload it, use:\n",
            "  %reload_ext nvcc_plugin\n"
          ]
        }
      ]
    },
    {
      "cell_type": "code",
      "source": [
        "%%writefile breadthfirst.cu\n",
        "#include <iostream>\n",
        "#include <queue>\n",
        "#include <vector>\n",
        "#include <omp.h>\n",
        "using namespace std;\n",
        "int main() {\n",
        "  int num_vertices, num_edges, source;\n",
        "  cout << \"Enter number of vertices, edges, and source node: \";\n",
        "  cin >> num_vertices >> num_edges >> source;\n",
        "  // Input validation\n",
        "  if (source < 1 || source > num_vertices) {\n",
        "    cout << \"Invalid source node!\" << endl;\n",
        "    return 1;\n",
        "  }\n",
        "  vector<vector<int>> adj_list(num_vertices + 1);\n",
        "  for (int i = 0; i < num_edges; i++) {\n",
        "    int u, v;\n",
        "    cin >> u >> v;\n",
        "    // Input validation for edges\n",
        "    if (u < 1 || u > num_vertices || v < 1 || v > num_vertices) {\n",
        "      cout << \"Invalid edge: \" << u << \" \" << v << endl;\n",
        "      return 1;\n",
        "    }\n",
        "    adj_list[u].push_back(v);\n",
        "    adj_list[v].push_back(u);\n",
        "  }\n",
        "  queue<int> q;\n",
        "  vector<bool> visited(num_vertices + 1, false);\n",
        "  q.push(source);\n",
        "  visited[source] = true;\n",
        "  while (!q.empty()) {\n",
        "    int curr_vertex = q.front();\n",
        "    q.pop();\n",
        "    cout << curr_vertex << \" \";\n",
        "    // Sequential loop for neighbors\n",
        "    for (int i = 0; i < adj_list[curr_vertex].size(); i++) {\n",
        "      int neighbour = adj_list[curr_vertex][i];\n",
        "      if (!visited[neighbour]) {\n",
        "        visited[neighbour] = true;\n",
        "        q.push(neighbour);\n",
        "      }\n",
        "    }\n",
        "  }\n",
        "  cout << endl;\n",
        "  return 0;\n",
        "}\n",
        "\n",
        "\n",
        "\n",
        "\n",
        "\n",
        "\n",
        "\n",
        "\n",
        "\n"
      ],
      "metadata": {
        "colab": {
          "base_uri": "https://localhost:8080/"
        },
        "id": "JF9-u8F6_p-h",
        "outputId": "14ebeba6-f14c-40e1-de95-fd58f0d7762a"
      },
      "execution_count": 13,
      "outputs": [
        {
          "output_type": "stream",
          "name": "stdout",
          "text": [
            "Overwriting breadthfirst.cu\n"
          ]
        }
      ]
    },
    {
      "cell_type": "code",
      "source": [
        "!nvcc breadthfirst.cu -o breadthfirst\n",
        "!./breadthfirst"
      ],
      "metadata": {
        "colab": {
          "base_uri": "https://localhost:8080/"
        },
        "id": "tPyQR3iUHVRe",
        "outputId": "3c19e5b8-2033-40ce-9562-fbe90d82a7db"
      },
      "execution_count": 15,
      "outputs": [
        {
          "output_type": "stream",
          "name": "stdout",
          "text": [
            "Enter number of vertices, edges, and source node: 6 5 3\n",
            "3 2\n",
            "3 5\n",
            "2 1\n",
            "5 4\n",
            "5 6\n",
            "3 2 5 1 4 6 \n"
          ]
        }
      ]
    }
  ]
}