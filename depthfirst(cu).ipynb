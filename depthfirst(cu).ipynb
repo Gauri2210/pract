{
  "nbformat": 4,
  "nbformat_minor": 0,
  "metadata": {
    "colab": {
      "provenance": [],
      "gpuType": "T4"
    },
    "kernelspec": {
      "name": "python3",
      "display_name": "Python 3"
    },
    "language_info": {
      "name": "python"
    },
    "accelerator": "GPU"
  },
  "cells": [
    {
      "cell_type": "code",
      "source": [
        "!nvcc --version"
      ],
      "metadata": {
        "colab": {
          "base_uri": "https://localhost:8080/"
        },
        "id": "mbL3Lb9mIjnk",
        "outputId": "7be1ee0a-6dd1-4b9e-96ae-3808313c4b60"
      },
      "execution_count": 16,
      "outputs": [
        {
          "output_type": "stream",
          "name": "stdout",
          "text": [
            "nvcc: NVIDIA (R) Cuda compiler driver\n",
            "Copyright (c) 2005-2023 NVIDIA Corporation\n",
            "Built on Tue_Aug_15_22:02:13_PDT_2023\n",
            "Cuda compilation tools, release 12.2, V12.2.140\n",
            "Build cuda_12.2.r12.2/compiler.33191640_0\n"
          ]
        }
      ]
    },
    {
      "cell_type": "code",
      "source": [
        "!pip install git+https://github.com/afnan47/cuda.git"
      ],
      "metadata": {
        "colab": {
          "base_uri": "https://localhost:8080/"
        },
        "id": "-K02O-P0Inxc",
        "outputId": "36fddeed-0bbf-4e73-f7c4-39d3eae574dd"
      },
      "execution_count": 17,
      "outputs": [
        {
          "output_type": "stream",
          "name": "stdout",
          "text": [
            "Collecting git+https://github.com/afnan47/cuda.git\n",
            "  Cloning https://github.com/afnan47/cuda.git to /tmp/pip-req-build-6o24_pfa\n",
            "  Running command git clone --filter=blob:none --quiet https://github.com/afnan47/cuda.git /tmp/pip-req-build-6o24_pfa\n",
            "  Resolved https://github.com/afnan47/cuda.git to commit aac710a35f52bb78ab34d2e52517237941399eff\n",
            "  Preparing metadata (setup.py) ... \u001b[?25l\u001b[?25hdone\n"
          ]
        }
      ]
    },
    {
      "cell_type": "code",
      "source": [
        "%load_ext nvcc_plugin"
      ],
      "metadata": {
        "colab": {
          "base_uri": "https://localhost:8080/"
        },
        "id": "ndhozjmQIwFd",
        "outputId": "20c49487-d978-4d5e-cc98-e46505c2ddb5"
      },
      "execution_count": 18,
      "outputs": [
        {
          "output_type": "stream",
          "name": "stdout",
          "text": [
            "The nvcc_plugin extension is already loaded. To reload it, use:\n",
            "  %reload_ext nvcc_plugin\n"
          ]
        }
      ]
    },
    {
      "cell_type": "code",
      "source": [
        "%%writefile depthfirst.cu\n",
        "#include <iostream>\n",
        "#include <vector>\n",
        "using namespace std;\n",
        "const int MAXN = 1e5;\n",
        "vector<int> adj[MAXN+5]; // adjacency list\n",
        "bool visited[MAXN+5]; // mark visited nodes\n",
        "void dfs(int node) {\n",
        "  visited[node] = true;\n",
        "  cout << node << \" \"; // Print the visited node here\n",
        "  for (int i = 0; i < adj[node].size(); i++) {\n",
        "    int next_node = adj[node][i];\n",
        "    if (!visited[next_node]) {\n",
        "      dfs(next_node);\n",
        "    }\n",
        "  }\n",
        "}\n",
        "int main() {\n",
        "  cout << \"Please enter nodes and edges: \";\n",
        "  int n, m; // number of nodes and edges\n",
        "  cin >> n >> m;\n",
        "  for (int i = 1; i <= m; i++) {\n",
        "    int u, v; // edge between u and v\n",
        "    cin >> u >> v;\n",
        "    adj[u].push_back(v);\n",
        "    adj[v].push_back(u);\n",
        "  }\n",
        "  int start_node; // start node of DFS\n",
        "  cout << \"Enter the start node for DFS: \";\n",
        "  cin >> start_node;\n",
        "  dfs(start_node);\n",
        "  cout << endl; // Print a newline after DFS traversal\n",
        "  return 0;\n",
        "}\n",
        "\n",
        "\n",
        "\n"
      ],
      "metadata": {
        "colab": {
          "base_uri": "https://localhost:8080/"
        },
        "id": "9BTWGCy6I8N5",
        "outputId": "6d85c503-4fc6-4c29-d399-0bae399b4c6a"
      },
      "execution_count": 19,
      "outputs": [
        {
          "output_type": "stream",
          "name": "stdout",
          "text": [
            "Writing depthfirst.cu\n"
          ]
        }
      ]
    },
    {
      "cell_type": "code",
      "source": [
        "!nvcc depthfirst.cu -o depthfirst\n",
        "!./depthfirst"
      ],
      "metadata": {
        "colab": {
          "base_uri": "https://localhost:8080/"
        },
        "id": "Oc6_pjkEJ7nW",
        "outputId": "e3cd092c-f561-4799-ca84-27b7d81fcb85"
      },
      "execution_count": 20,
      "outputs": [
        {
          "output_type": "stream",
          "name": "stdout",
          "text": [
            "Please enter nodes and edges: 5 4\n",
            "1 2\n",
            "1 3\n",
            "2 4\n",
            "3 5\n",
            "Enter the start node for DFS: 2\n",
            "2 1 3 5 4 \n"
          ]
        }
      ]
    }
  ]
}